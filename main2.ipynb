{
 "cells": [
  {
   "cell_type": "code",
   "execution_count": 24,
   "metadata": {},
   "outputs": [
    {
     "name": "stderr",
     "output_type": "stream",
     "text": [
      "<>:11: SyntaxWarning: list indices must be integers or slices, not tuple; perhaps you missed a comma?\n",
      "<>:11: SyntaxWarning: list indices must be integers or slices, not tuple; perhaps you missed a comma?\n",
      "/tmp/ipykernel_863/2538665095.py:11: SyntaxWarning: list indices must be integers or slices, not tuple; perhaps you missed a comma?\n",
      "  [1, 0, 0]\n"
     ]
    }
   ],
   "source": [
    "from sympy import Matrix, pprint, cos, sin, symbols, pi, simplify\n",
    "from typing import Union\n",
    "class SympyRobotics:\n",
    "    def __init__(self):\n",
    "        pass\n",
    "        \n",
    "    #~ Returns a X axis rotation matrix\n",
    "    #? Takes an angle of type float\n",
    "    def x_rotation_matrix(angle:float) -> Matrix:\n",
    "        return Matrix([\n",
    "            [1, 0, 0]\n",
    "            [0, cos(angle), -sin(angle)],\n",
    "            [0, sin(angle), -sin(angle)],\n",
    "        ])\n",
    "        \n",
    "    #~ Rotates a Matrix about the X axis - multiplies a matrix by the X axis rotation matrix\n",
    "    #? Takes the following inputs :\n",
    "    #? matrix of type Sympy Matrix \n",
    "    #? angle of type float - better than integer\n",
    "    #TODO as_number of type bool\n",
    "    #TODO degrees\n",
    "    #TODO round_decimal\n",
    "    #TODO significant_figures \n",
    "    def rotate_about_X(self, matrix:Matrix, angle:float, as_number=False, degrees=True, round_decimal=None, significant_figures=None):\n",
    "        if degrees:\n",
    "            angle = angle * pi / 180.0  # Convert angle to radians if degrees is True\n",
    "\n",
    "        result = x_rotation_matrix(angle) * matrix\n",
    "\n",
    "        if as_number:\n",
    "            result = result.evalf()\n",
    "\n",
    "            if round_decimal is not None:\n",
    "                #result = round(result, round_decimal)  # Round to specified decimal places\n",
    "                result = result.evalf(round_decimal)\n",
    "            if significant_figures is not None:\n",
    "                result = round(result, significant_figures - int(result.is_zero))\n",
    "\n",
    "        return result\n",
    "    \n",
    "    #~ Returns a Y axis rotation matrix\n",
    "    #? Takes an angle of type float\n",
    "    def y_rotation_matrix(angle:float) -> Matrix:\n",
    "        return Matrix([\n",
    "            [cos(angle), 0, -sin(angle)],\n",
    "            [0, 1, 0],\n",
    "            [sin(angle), 0 , cos(angle)]\n",
    "        ])\n",
    "\n",
    "    #~ Rotates a Matrix about the Y axis - multiplies a matrix by the Y axis rotation matrix\n",
    "    #? Takes the following inputs :\n",
    "    #? matrix of type Sympy Matrix\n",
    "    #? angle of type float - better than integer\n",
    "    #TODO as_number of type bool\n",
    "    #TODO degrees\n",
    "    #TODO round_decimal\n",
    "    #TODO significant_figures\n",
    "    def rotate_about_Y(self, matrix:Matrix, angle:float, as_number=False, degrees=True, round_decimal=None, significant_figures=None):\n",
    "        if degrees:\n",
    "            angle = angle * pi / 180.0  # Convert angle to radians if degrees is True\n",
    "\n",
    "        result = y_rotation_matrix(angle) * matrix\n",
    "\n",
    "        if as_number:\n",
    "            result = result.evalf()\n",
    "\n",
    "            if round_decimal is not None:\n",
    "                result = round(result, round_decimal)  # Round to specified decimal places\n",
    "\n",
    "            if significant_figures is not None:\n",
    "                result = round(result, significant_figures - int(result.is_zero))\n",
    "\n",
    "        return result\n",
    "\n",
    "    #~ Returns a Z axis rotation matrix\n",
    "    #? Takes an angle of type float\n",
    "    def z_rotation_matrix(angle:float) -> Matrix:\n",
    "        return Matrix([\n",
    "            [cos(angle), -sin(angle), 0],\n",
    "            [sin(angle), cos(angle), 0],\n",
    "            [0, 0, 1]\n",
    "        ])\n",
    "        \n",
    "    #~ Rotates a Matrix about the Z axis - multiplies a matrix by the Z axis rotation matrix\n",
    "    #? Takes the following inputs :\n",
    "    #? matrix of type Sympy Matrix\n",
    "    #? angle of type float - better than integer\n",
    "    #TODO as_number of type bool\n",
    "    #TODO degrees\n",
    "    #TODO round_decimal\n",
    "    #TODO significant_figures\n",
    "    def rotate_about_Z(self, matrix:Matrix, angle:float, as_number=False, degrees=True, round_decimal=None, significant_figures=None):\n",
    "        if degrees:\n",
    "            angle = angle * pi / 180.0  # Convert angle to radians if degrees is True\n",
    "\n",
    "        result = z_rotation_matrix(angle) * matrix\n",
    "\n",
    "        if as_number:\n",
    "            result = result.evalf()\n",
    "\n",
    "            if round_decimal is not None:\n",
    "                result = round(result, round_decimal)  # Round to specified decimal places\n",
    "\n",
    "            if significant_figures is not None:\n",
    "                result = round(result, significant_figures - int(result.is_zero))\n",
    "\n",
    "        return result\n",
    "    \n",
    "    def create_transformation_matrix(self, rotation_matrix: Matrix, position_vector: Matrix) -> Matrix:\n",
    "        return Matrix([\n",
    "            [rotation_matrix[0], rotation_matrix[1], rotation_matrix[2], position_vector[0]],\n",
    "            [rotation_matrix[3], rotation_matrix[4], rotation_matrix[5], position_vector[1]],\n",
    "            [rotation_matrix[6], rotation_matrix[7], rotation_matrix[8], position_vector[2]],\n",
    "            [0, 0, 0, 1],\n",
    "        ])\n",
    "    \n",
    "    def inverse_transformation_matrix(self, transformation_Matrix:Matrix, steps_to_answer=False):\n",
    "        self.r11 = transformation_Matrix[0]\n",
    "        self.r12 = transformation_Matrix[1]\n",
    "        self.r13 = transformation_Matrix[2]\n",
    "        self.px =  transformation_Matrix[3]\n",
    "        self.r21 = transformation_Matrix[4]\n",
    "        self.r22 = transformation_Matrix[5]\n",
    "        self.r23 = transformation_Matrix[6]\n",
    "        self.py =  transformation_Matrix[7]\n",
    "        self.r31 = transformation_Matrix[8]\n",
    "        self.r32 = transformation_Matrix[9]\n",
    "        self.r33 = transformation_Matrix[10]\n",
    "        self.pz =  transformation_Matrix[11]\n",
    "        \n",
    "        self.px_new = -((self.px * self.r11) + (self.py * self.r21) + (self.pz * self.r31))\n",
    "        self.py_new = -((self.px * self.r12) + (self.py * self.r22) + (self.pz * self.r32))\n",
    "        self.pz_new = -((self.px * self.r13) + (self.py * self.r23) + (self.pz * self.r33))\n",
    "        \n",
    "        inverse_transformation_matrix = Matrix([[self.r11, self.r21, self.r31, self.px_new], \n",
    "                                                [self.r12, self.r22, self.r32, self.py_new],\n",
    "                                                [self.r13, self.r23, self.r33, self.pz_new],\n",
    "                                                [0, 0, 0, 1]])\n",
    "        \n",
    "        if steps_to_answer:\n",
    "            print(\"This is the general transformation matrix \\n\")\n",
    "            pprint(Matrix([['r11', 'r12', 'r13', 'px'], \n",
    "                          ['r21', 'r22', 'r23', 'py'],\n",
    "                          ['r31', 'r32', 'r33', 'pz'],\n",
    "                          ['0', '0', '0', '1']]))\n",
    "            print(\"\\nIt comprises of the rotation matrix\\n\")\n",
    "            pprint(Matrix([['r11', 'r12', 'r13'],\n",
    "                          ['r21', 'r22', 'r23'],\n",
    "                          ['r31', 'r32', 'r33']]))\n",
    "            print(\"\\nThe position vector in column matrix form\\n\")\n",
    "            pprint(Matrix([['px'],\n",
    "                          ['py'],\n",
    "                          ['py']]))\n",
    "            print(\"\\nand a bottom row matrix always in the form: \\n\")\n",
    "            pprint(Matrix([['0','0','0','1']]))\n",
    "            print(\"\\nThese are the inputted values\\n\")\n",
    "            pprint(Matrix([[self.r11, self.r12, self.r13, self.px], \n",
    "                          [self.r21, self.r22, self.r23, self.py],\n",
    "                          [self.r31, self.r32, self.r33, self.pz],\n",
    "                          [0,0,0,1]]))\n",
    "            print(\"\\nThis is the inverse transformation matrix formula. Notice how the rotation matrix is transposed\\n\")\n",
    "            pprint((Matrix([[\"r11\", 'r21', 'r31', '-(px*r11)+(py*r21)+(pz*r31)'], \n",
    "                           ['r12', 'r22', 'r32', '-(px*r12)+(py*r22)+(pz*r32)'],\n",
    "                           ['r13', 'r23', 'r33', '-(px*r13)+(py*r23)+(pz*r33)'],\n",
    "                           ['0', '0', '0', '1']])))\n",
    "            print(\"\\nTherefore this is the inverse transformation matrix:\\n\")\n",
    "            return inverse_transformation_matrix\n",
    "\n",
    "        else:\n",
    "            return inverse_transformation_matrix\n",
    "    \n",
    "    #~ Creates a general transformation matrix\n",
    "    def create_general_transformation_matrix(self, theta: Union['Symbol', int, float], alpha, a, d) -> Matrix:\n",
    "        return Matrix([\n",
    "            [cos(theta), -sin(theta)*cos(alpha), sin(theta)*sin(alpha),  a*cos(theta)],\n",
    "            [sin(theta),  cos(theta)*cos(alpha), -cos(theta)*sin(alpha), a*sin(theta)],\n",
    "            [0, sin(alpha), cos(alpha), d],\n",
    "            [0,0,0,1]\n",
    "        ])\n",
    "    \n",
    "    #~ Calculates the forward kinematics of a robot based on Denavit-Hartenberg parameters\n",
    "    #? Takes the following inputs :\n",
    "    #? degrees of type bool - if True, angles are assumed to be in degrees\n",
    "    #? DHtable of type Sympy Matrix - Denavit-Hartenberg parameters\n",
    "    def forward_kinematics_DH(self, degrees=False, DHtable=None) -> Matrix:\n",
    "        if DHtable is not None:\n",
    "            number_of_frames = DHtable.rows\n",
    "        else:\n",
    "            number_of_frames = int(input(\"Enter number of frames: \"))\n",
    "\n",
    "        lists = [[] for _ in range(number_of_frames)]\n",
    "        matrix_variables = {}\n",
    "\n",
    "        if DHtable:\n",
    "            for i in range(number_of_frames):\n",
    "                theta = DHtable[i, 0]\n",
    "                alpha = DHtable[i, 1]\n",
    "                a = DHtable[i, 2]\n",
    "                d = DHtable[i, 3]\n",
    "\n",
    "                if degrees:\n",
    "                    theta_val = (float(theta) * pi / 180) if str(theta).replace('.', '', 1).isdigit() else (theta)\n",
    "                    alpha_val = (float(alpha) * pi / 180) if str(alpha).replace('.', '', 1).isdigit() else (alpha)\n",
    "                else:\n",
    "                    theta_val = float(theta) if str(theta).replace('.', '', 1).isdigit() else (theta)\n",
    "                    alpha_val = float(alpha) if str(alpha).replace('.', '', 1).isdigit() else (alpha)\n",
    "\n",
    "                a_val = float(a) if str(a).replace('.', '', 1).isdigit() else (a)\n",
    "                d_val = float(d) if str(d).replace('.', '', 1).isdigit() else (d)\n",
    "\n",
    "                lists[i].append(theta_val)\n",
    "                lists[i].append(alpha_val)\n",
    "                lists[i].append(a_val)\n",
    "                lists[i].append(d_val)\n",
    "        else: \n",
    "            for i in range(number_of_frames):\n",
    "                theta = input(f\"Enter theta_{i+1}: \")\n",
    "                alpha = input(f\"Enter alpha_{i+1}: \")\n",
    "                a = input(f\"Enter a_{i+1}: \")\n",
    "                d = input(f\"Enter d_{i+1}: \")\n",
    "\n",
    "                if degrees:\n",
    "                    theta_val = (float(theta) * pi / 180) if theta.strip().replace('.', '', 1).isdigit() else symbols(theta)\n",
    "                    alpha_val = (float(alpha) * pi / 180) if alpha.strip().replace('.', '', 1).isdigit() else symbols(alpha)\n",
    "                else:\n",
    "                    theta_val = float(theta) if theta.strip().replace('.', '', 1).isdigit() else symbols(theta)\n",
    "                    alpha_val = float(alpha) if alpha.strip().replace('.', '', 1).isdigit() else symbols(alpha)\n",
    "\n",
    "                a_val = float(a) if a.strip().replace('.', '', 1).isdigit() else symbols(a)\n",
    "                d_val = float(d) if d.strip().replace('.', '', 1).isdigit() else symbols(d)\n",
    "\n",
    "                lists[i].append(theta_val)\n",
    "                lists[i].append(alpha_val)\n",
    "                lists[i].append(a_val)\n",
    "                lists[i].append(d_val)\n",
    "\n",
    "        # Create transformation matrices\n",
    "        matrices = []\n",
    "        for i in lists:\n",
    "            theta_val = i[0]\n",
    "            alpha_val = i[1]\n",
    "            a_val = i[2]\n",
    "            d_val = i[3]\n",
    "\n",
    "            matrix = Matrix([\n",
    "                [cos(theta_val), -sin(theta_val)*cos(alpha_val), sin(theta_val)*sin(alpha_val),  a_val*cos(theta_val)],\n",
    "                [sin(theta_val),  cos(theta_val)*cos(alpha_val), -cos(theta_val)*sin(alpha_val), a_val*sin(theta_val)],\n",
    "                [0, sin(alpha_val), cos(alpha_val), d_val],\n",
    "                [0,0,0,1]\n",
    "            ])\n",
    "            matrices.append(matrix)\n",
    "\n",
    "        for i in range(number_of_frames):\n",
    "            matrix_variables[f\"T_{i}_{i+1}\"] = matrices[i]\n",
    "\n",
    "        print(\"Matrix Variables:\")\n",
    "        for key, matrix in matrix_variables.items():\n",
    "            print(f\"{key}:\")\n",
    "            print(matrix)  \n",
    "            print() # adds spacing\n",
    "\n",
    "        # Print the product matrix\n",
    "        for matrix in matrices[1:]:\n",
    "            matrices[0] = matrices[0] * matrix\n",
    "        print(\"Resulting Product Matrix:\")\n",
    "        return matrices[0]\n",
    "\n",
    "# Usage\n",
    "r = SympyRobotics()\n",
    "\n",
    "\n",
    "rotation_matrix = Matrix([\n",
    "        [0.866, 0, 0],\n",
    "        [0, 0.866, 0],\n",
    "        [0, 0, 1]\n",
    "    ])\n",
    "position_vector = Matrix([\n",
    "    [10],\n",
    "    [12],\n",
    "    [1]\n",
    "])\n",
    "\n",
    "# result = r.create_transformation_matrix(rotation_matrix, position_vector)\n",
    "# pprint(result)\n",
    "theta1, theta2, theta3, theta4, theta5, theta6, a1, a2, a3, a4, a5, a6, d1, d2,  d3, d4, d5, d6, L1, L2, L3, L4, L5, L6 = symbols(\n",
    "    'theta1, theta2, theta3, theta4, theta5, theta6, a1, a2, a3, a4, a5, a6,d1, d2,  d3, d4, d5, d6, L1, L2, L3, L4, L5, L6', real=True)\n",
    "dhtable = Matrix([\n",
    "    [theta1, 0, L1, 0],\n",
    "    [theta2, 0, L2, 0],\n",
    "    [theta3, 0, L3, 0],\n",
    "])\n",
    "# transformation_matrix = r.forward_kinematics_DH(degrees=True, DHtable=dhtable)\n",
    "# transformation_matrix = simplify(transformation_matrix)\n",
    "# pprint(transformation_matrix)\n"
   ]
  },
  {
   "cell_type": "code",
   "execution_count": 2,
   "metadata": {},
   "outputs": [],
   "source": [
    "r = SympyRobotics()"
   ]
  },
  {
   "cell_type": "code",
   "execution_count": 3,
   "metadata": {},
   "outputs": [],
   "source": [
    "dhtable = Matrix([\n",
    "    [theta1, 0, L1, 0],\n",
    "    [theta2, 0, L2, 0],\n",
    "])"
   ]
  },
  {
   "cell_type": "code",
   "execution_count": 4,
   "metadata": {},
   "outputs": [
    {
     "name": "stdout",
     "output_type": "stream",
     "text": [
      "Matrix Variables:\n",
      "T_0_1:\n",
      "Matrix([[cos(theta1), -sin(theta1), 0, L1*cos(theta1)], [sin(theta1), cos(theta1), 0, L1*sin(theta1)], [0, 0, 1, 0], [0, 0, 0, 1]])\n",
      "\n",
      "T_1_2:\n",
      "Matrix([[cos(theta2), -sin(theta2), 0, L2*cos(theta2)], [sin(theta2), cos(theta2), 0, L2*sin(theta2)], [0, 0, 1, 0], [0, 0, 0, 1]])\n",
      "\n",
      "Resulting Product Matrix:\n"
     ]
    }
   ],
   "source": [
    "transformation_matrix = r.forward_kinematics_DH(degrees=True, DHtable=dhtable)"
   ]
  },
  {
   "cell_type": "code",
   "execution_count": 5,
   "metadata": {},
   "outputs": [],
   "source": [
    "transformation_matrix = simplify(transformation_matrix)"
   ]
  },
  {
   "cell_type": "code",
   "execution_count": 6,
   "metadata": {},
   "outputs": [],
   "source": [
    "x_pos = transformation_matrix[3]"
   ]
  },
  {
   "cell_type": "code",
   "execution_count": 8,
   "metadata": {},
   "outputs": [
    {
     "data": {
      "text/latex": [
       "$\\displaystyle L_{1} \\cos{\\left(\\theta_{1} \\right)} + L_{2} \\cos{\\left(\\theta_{1} + \\theta_{2} \\right)}$"
      ],
      "text/plain": [
       "L1*cos(theta1) + L2*cos(theta1 + theta2)"
      ]
     },
     "execution_count": 8,
     "metadata": {},
     "output_type": "execute_result"
    }
   ],
   "source": [
    "x_pos"
   ]
  },
  {
   "cell_type": "code",
   "execution_count": 23,
   "metadata": {},
   "outputs": [],
   "source": [
    "from sympy import Function\n",
    "from sympy.physics.mechanics import init_vprinting\n",
    "init_vprinting()"
   ]
  },
  {
   "cell_type": "code",
   "execution_count": 24,
   "metadata": {},
   "outputs": [
    {
     "data": {
      "text/latex": [
       "$\\displaystyle - L_{1} \\sin{\\left(\\theta_{1} \\right)} \\dot{\\theta}_{1} - L_{2} \\left(\\dot{\\theta}_{1} + \\dot{\\theta}_{2}\\right) \\sin{\\left(\\theta_{1} + \\theta_{2} \\right)}$"
      ],
      "text/plain": [
       "-L₁⋅sin(θ₁)⋅θ₁̇ - L₂⋅(θ₁̇ + θ₂̇)⋅sin(θ₁ + θ₂)"
      ]
     },
     "execution_count": 24,
     "metadata": {},
     "output_type": "execute_result"
    }
   ],
   "source": [
    "t = symbols('t')\n",
    "theta1 = Function('theta1')(t)\n",
    "theta2 = Function('theta2')(t)\n",
    "x_pos_f = L1*cos(theta1) + L2*cos(theta1 + theta2)\n",
    "d_x_pos_f = x_pos_f.diff(t)\n",
    "d_x_pos_f"
   ]
  },
  {
   "cell_type": "code",
   "execution_count": 18,
   "metadata": {},
   "outputs": [],
   "source": [
    "dhtable = Matrix([\n",
    "    [theta1, 90, L1, 0],\n",
    "    [0, 0, 0, d2]\n",
    "])"
   ]
  },
  {
   "cell_type": "code",
   "execution_count": 27,
   "metadata": {},
   "outputs": [
    {
     "data": {
      "text/latex": [
       "$\\displaystyle \\left[\\begin{matrix}\\cos{\\left(\\theta_{1} \\right)} & - \\sin{\\left(\\theta_{1} \\right)} \\cos{\\left(90 \\right)} & \\sin{\\left(90 \\right)} \\sin{\\left(\\theta_{1} \\right)} & L_{1} \\cos{\\left(\\theta_{1} \\right)}\\\\\\sin{\\left(\\theta_{1} \\right)} & \\cos{\\left(90 \\right)} \\cos{\\left(\\theta_{1} \\right)} & - \\sin{\\left(90 \\right)} \\cos{\\left(\\theta_{1} \\right)} & L_{1} \\sin{\\left(\\theta_{1} \\right)}\\\\0 & \\sin{\\left(90 \\right)} & \\cos{\\left(90 \\right)} & 0\\\\0 & 0 & 0 & 1\\end{matrix}\\right]$"
      ],
      "text/plain": [
       "Matrix([\n",
       "[cos(theta1), -sin(theta1)*cos(90),  sin(90)*sin(theta1), L1*cos(theta1)],\n",
       "[sin(theta1),  cos(90)*cos(theta1), -sin(90)*cos(theta1), L1*sin(theta1)],\n",
       "[          0,              sin(90),              cos(90),              0],\n",
       "[          0,                    0,                    0,              1]])"
      ]
     },
     "execution_count": 27,
     "metadata": {},
     "output_type": "execute_result"
    }
   ],
   "source": [
    "T_0_1 = r.create_general_transformation_matrix(theta1, 90, L1, 0)\n",
    "T_0_1"
   ]
  },
  {
   "cell_type": "code",
   "execution_count": 19,
   "metadata": {},
   "outputs": [
    {
     "name": "stdout",
     "output_type": "stream",
     "text": [
      "Matrix Variables:\n",
      "T_0_1:\n",
      "Matrix([[cos(theta1), 0, sin(theta1), L1*cos(theta1)], [sin(theta1), 0, -cos(theta1), L1*sin(theta1)], [0, 1, 0, 0], [0, 0, 0, 1]])\n",
      "\n",
      "T_1_2:\n",
      "Matrix([[1, 0, 0, 0], [0, 1, 0, 0], [0, 0, 1, d2], [0, 0, 0, 1]])\n",
      "\n",
      "Resulting Product Matrix:\n"
     ]
    }
   ],
   "source": [
    "transformation_matrix = r.forward_kinematics_DH(degrees=True, DHtable=dhtable)"
   ]
  },
  {
   "cell_type": "code",
   "execution_count": 11,
   "metadata": {},
   "outputs": [
    {
     "data": {
      "text/latex": [
       "$\\displaystyle \\left[\\begin{matrix}\\cos{\\left(\\theta_{1} \\right)} & 0 & \\sin{\\left(\\theta_{1} \\right)} & L_{1} \\cos{\\left(\\theta_{1} \\right)} + d_{2} \\sin{\\left(\\theta_{1} \\right)}\\\\\\sin{\\left(\\theta_{1} \\right)} & 0 & - \\cos{\\left(\\theta_{1} \\right)} & L_{1} \\sin{\\left(\\theta_{1} \\right)} - d_{2} \\cos{\\left(\\theta_{1} \\right)}\\\\0 & 1 & 0 & 0\\\\0 & 0 & 0 & 1\\end{matrix}\\right]$"
      ],
      "text/plain": [
       "Matrix([\n",
       "[cos(theta1), 0,  sin(theta1), L1*cos(theta1) + d2*sin(theta1)],\n",
       "[sin(theta1), 0, -cos(theta1), L1*sin(theta1) - d2*cos(theta1)],\n",
       "[          0, 1,            0,                               0],\n",
       "[          0, 0,            0,                               1]])"
      ]
     },
     "execution_count": 11,
     "metadata": {},
     "output_type": "execute_result"
    }
   ],
   "source": [
    "transformation_matrix"
   ]
  },
  {
   "cell_type": "code",
   "execution_count": 28,
   "metadata": {},
   "outputs": [],
   "source": [
    "t2 = Matrix([\n",
    "    [cos(theta1), -sin(theta1)*cos(90), sin(theta1)*sin(90), L1*cos(theta1)],\n",
    "    [sin(theta1),  cos(theta1)*cos(90), -cos(theta1)*sin(90), L1*sin(theta1)],\n",
    "    [0, sin(90), cos(90), 0],\n",
    "    [0,0,0,1]\n",
    "])*Matrix([\n",
    "    [cos(0), -sin(0)*cos(0), sin(0)*sin(0), 0*cos(0)],\n",
    "    [sin(0),  cos(0)*cos(0), -cos(0)*sin(0), 0*sin(0)],\n",
    "    [0, sin(0), cos(0), d2],\n",
    "    [0,0,0,1]\n",
    "])"
   ]
  },
  {
   "cell_type": "code",
   "execution_count": 29,
   "metadata": {},
   "outputs": [
    {
     "data": {
      "text/latex": [
       "$\\displaystyle \\left[\\begin{matrix}\\cos{\\left(\\theta_{1} \\right)} & - \\sin{\\left(\\theta_{1} \\right)} \\cos{\\left(90 \\right)} & \\sin{\\left(90 \\right)} \\sin{\\left(\\theta_{1} \\right)} & L_{1} \\cos{\\left(\\theta_{1} \\right)} + d_{2} \\sin{\\left(90 \\right)} \\sin{\\left(\\theta_{1} \\right)}\\\\\\sin{\\left(\\theta_{1} \\right)} & \\cos{\\left(90 \\right)} \\cos{\\left(\\theta_{1} \\right)} & - \\sin{\\left(90 \\right)} \\cos{\\left(\\theta_{1} \\right)} & L_{1} \\sin{\\left(\\theta_{1} \\right)} - d_{2} \\sin{\\left(90 \\right)} \\cos{\\left(\\theta_{1} \\right)}\\\\0 & \\sin{\\left(90 \\right)} & \\cos{\\left(90 \\right)} & d_{2} \\cos{\\left(90 \\right)}\\\\0 & 0 & 0 & 1\\end{matrix}\\right]$"
      ],
      "text/plain": [
       "Matrix([\n",
       "[cos(theta1), -sin(theta1)*cos(90),  sin(90)*sin(theta1), L1*cos(theta1) + d2*sin(90)*sin(theta1)],\n",
       "[sin(theta1),  cos(90)*cos(theta1), -sin(90)*cos(theta1), L1*sin(theta1) - d2*sin(90)*cos(theta1)],\n",
       "[          0,              sin(90),              cos(90),                              d2*cos(90)],\n",
       "[          0,                    0,                    0,                                       1]])"
      ]
     },
     "execution_count": 29,
     "metadata": {},
     "output_type": "execute_result"
    }
   ],
   "source": [
    "simplify(t2)"
   ]
  },
  {
   "cell_type": "code",
   "execution_count": null,
   "metadata": {},
   "outputs": [],
   "source": []
  }
 ],
 "metadata": {
  "kernelspec": {
   "display_name": "Python 3",
   "language": "python",
   "name": "python3"
  },
  "language_info": {
   "codemirror_mode": {
    "name": "ipython",
    "version": 3
   },
   "file_extension": ".py",
   "mimetype": "text/x-python",
   "name": "python",
   "nbconvert_exporter": "python",
   "pygments_lexer": "ipython3",
   "version": "3.10.12"
  }
 },
 "nbformat": 4,
 "nbformat_minor": 2
}
